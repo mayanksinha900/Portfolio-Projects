{
 "cells": [
  {
   "cell_type": "code",
   "execution_count": 328,
   "metadata": {},
   "outputs": [],
   "source": [
    "import numpy as np\n",
    "import pandas as pd\n",
    "import matplotlib.pyplot as plt\n",
    "import seaborn as sns\n",
    "\n",
    "%matplotlib inline\n",
    "\n",
    "from sklearn.model_selection import train_test_split\n",
    "from sklearn.impute import SimpleImputer\n",
    "from sklearn.preprocessing import OneHotEncoder\n",
    "from sklearn.compose import ColumnTransformer\n",
    "from sklearn.pipeline import Pipeline\n",
    "from sklearn.preprocessing import MinMaxScaler\n",
    "\n",
    "# Models used for classification\n",
    "from sklearn.linear_model import LogisticRegression\n",
    "from sklearn.neighbors import KNeighborsClassifier\n",
    "from xgboost import XGBClassifier\n",
    "\n",
    "# Ohter libraries\n",
    "from sklearn.metrics import confusion_matrix, classification_report, accuracy_score\n",
    "from imblearn.under_sampling import RandomUnderSampler, NearMiss\n",
    "from imblearn.over_sampling import RandomOverSampler, SMOTENC\n",
    "\n",
    "import warnings\n",
    "warnings.filterwarnings(\"ignore\")"
   ]
  },
  {
   "cell_type": "code",
   "execution_count": 285,
   "metadata": {},
   "outputs": [],
   "source": [
    "df = pd.read_csv('../Datasets/stoke_prediction.csv')"
   ]
  },
  {
   "cell_type": "code",
   "execution_count": 286,
   "metadata": {},
   "outputs": [
    {
     "data": {
      "text/html": [
       "<div>\n",
       "<style scoped>\n",
       "    .dataframe tbody tr th:only-of-type {\n",
       "        vertical-align: middle;\n",
       "    }\n",
       "\n",
       "    .dataframe tbody tr th {\n",
       "        vertical-align: top;\n",
       "    }\n",
       "\n",
       "    .dataframe thead th {\n",
       "        text-align: right;\n",
       "    }\n",
       "</style>\n",
       "<table border=\"1\" class=\"dataframe\">\n",
       "  <thead>\n",
       "    <tr style=\"text-align: right;\">\n",
       "      <th></th>\n",
       "      <th>id</th>\n",
       "      <th>gender</th>\n",
       "      <th>age</th>\n",
       "      <th>hypertension</th>\n",
       "      <th>heart_disease</th>\n",
       "      <th>ever_married</th>\n",
       "      <th>work_type</th>\n",
       "      <th>Residence_type</th>\n",
       "      <th>avg_glucose_level</th>\n",
       "      <th>bmi</th>\n",
       "      <th>smoking_status</th>\n",
       "      <th>stroke</th>\n",
       "    </tr>\n",
       "  </thead>\n",
       "  <tbody>\n",
       "    <tr>\n",
       "      <th>0</th>\n",
       "      <td>30669</td>\n",
       "      <td>Male</td>\n",
       "      <td>3.0</td>\n",
       "      <td>0</td>\n",
       "      <td>0</td>\n",
       "      <td>No</td>\n",
       "      <td>children</td>\n",
       "      <td>Rural</td>\n",
       "      <td>95.12</td>\n",
       "      <td>18.0</td>\n",
       "      <td>NaN</td>\n",
       "      <td>0</td>\n",
       "    </tr>\n",
       "    <tr>\n",
       "      <th>1</th>\n",
       "      <td>30468</td>\n",
       "      <td>Male</td>\n",
       "      <td>58.0</td>\n",
       "      <td>1</td>\n",
       "      <td>0</td>\n",
       "      <td>Yes</td>\n",
       "      <td>Private</td>\n",
       "      <td>Urban</td>\n",
       "      <td>87.96</td>\n",
       "      <td>39.2</td>\n",
       "      <td>never smoked</td>\n",
       "      <td>0</td>\n",
       "    </tr>\n",
       "    <tr>\n",
       "      <th>2</th>\n",
       "      <td>16523</td>\n",
       "      <td>Female</td>\n",
       "      <td>8.0</td>\n",
       "      <td>0</td>\n",
       "      <td>0</td>\n",
       "      <td>No</td>\n",
       "      <td>Private</td>\n",
       "      <td>Urban</td>\n",
       "      <td>110.89</td>\n",
       "      <td>17.6</td>\n",
       "      <td>NaN</td>\n",
       "      <td>0</td>\n",
       "    </tr>\n",
       "    <tr>\n",
       "      <th>3</th>\n",
       "      <td>56543</td>\n",
       "      <td>Female</td>\n",
       "      <td>70.0</td>\n",
       "      <td>0</td>\n",
       "      <td>0</td>\n",
       "      <td>Yes</td>\n",
       "      <td>Private</td>\n",
       "      <td>Rural</td>\n",
       "      <td>69.04</td>\n",
       "      <td>35.9</td>\n",
       "      <td>formerly smoked</td>\n",
       "      <td>0</td>\n",
       "    </tr>\n",
       "    <tr>\n",
       "      <th>4</th>\n",
       "      <td>46136</td>\n",
       "      <td>Male</td>\n",
       "      <td>14.0</td>\n",
       "      <td>0</td>\n",
       "      <td>0</td>\n",
       "      <td>No</td>\n",
       "      <td>Never_worked</td>\n",
       "      <td>Rural</td>\n",
       "      <td>161.28</td>\n",
       "      <td>19.1</td>\n",
       "      <td>NaN</td>\n",
       "      <td>0</td>\n",
       "    </tr>\n",
       "    <tr>\n",
       "      <th>5</th>\n",
       "      <td>32257</td>\n",
       "      <td>Female</td>\n",
       "      <td>47.0</td>\n",
       "      <td>0</td>\n",
       "      <td>0</td>\n",
       "      <td>Yes</td>\n",
       "      <td>Private</td>\n",
       "      <td>Urban</td>\n",
       "      <td>210.95</td>\n",
       "      <td>50.1</td>\n",
       "      <td>NaN</td>\n",
       "      <td>0</td>\n",
       "    </tr>\n",
       "    <tr>\n",
       "      <th>6</th>\n",
       "      <td>52800</td>\n",
       "      <td>Female</td>\n",
       "      <td>52.0</td>\n",
       "      <td>0</td>\n",
       "      <td>0</td>\n",
       "      <td>Yes</td>\n",
       "      <td>Private</td>\n",
       "      <td>Urban</td>\n",
       "      <td>77.59</td>\n",
       "      <td>17.7</td>\n",
       "      <td>formerly smoked</td>\n",
       "      <td>0</td>\n",
       "    </tr>\n",
       "    <tr>\n",
       "      <th>7</th>\n",
       "      <td>41413</td>\n",
       "      <td>Female</td>\n",
       "      <td>75.0</td>\n",
       "      <td>0</td>\n",
       "      <td>1</td>\n",
       "      <td>Yes</td>\n",
       "      <td>Self-employed</td>\n",
       "      <td>Rural</td>\n",
       "      <td>243.53</td>\n",
       "      <td>27.0</td>\n",
       "      <td>never smoked</td>\n",
       "      <td>0</td>\n",
       "    </tr>\n",
       "    <tr>\n",
       "      <th>8</th>\n",
       "      <td>15266</td>\n",
       "      <td>Female</td>\n",
       "      <td>32.0</td>\n",
       "      <td>0</td>\n",
       "      <td>0</td>\n",
       "      <td>Yes</td>\n",
       "      <td>Private</td>\n",
       "      <td>Rural</td>\n",
       "      <td>77.67</td>\n",
       "      <td>32.3</td>\n",
       "      <td>smokes</td>\n",
       "      <td>0</td>\n",
       "    </tr>\n",
       "    <tr>\n",
       "      <th>9</th>\n",
       "      <td>28674</td>\n",
       "      <td>Female</td>\n",
       "      <td>74.0</td>\n",
       "      <td>1</td>\n",
       "      <td>0</td>\n",
       "      <td>Yes</td>\n",
       "      <td>Self-employed</td>\n",
       "      <td>Urban</td>\n",
       "      <td>205.84</td>\n",
       "      <td>54.6</td>\n",
       "      <td>never smoked</td>\n",
       "      <td>0</td>\n",
       "    </tr>\n",
       "  </tbody>\n",
       "</table>\n",
       "</div>"
      ],
      "text/plain": [
       "      id  gender   age  hypertension  heart_disease ever_married  \\\n",
       "0  30669    Male   3.0             0              0           No   \n",
       "1  30468    Male  58.0             1              0          Yes   \n",
       "2  16523  Female   8.0             0              0           No   \n",
       "3  56543  Female  70.0             0              0          Yes   \n",
       "4  46136    Male  14.0             0              0           No   \n",
       "5  32257  Female  47.0             0              0          Yes   \n",
       "6  52800  Female  52.0             0              0          Yes   \n",
       "7  41413  Female  75.0             0              1          Yes   \n",
       "8  15266  Female  32.0             0              0          Yes   \n",
       "9  28674  Female  74.0             1              0          Yes   \n",
       "\n",
       "       work_type Residence_type  avg_glucose_level   bmi   smoking_status  \\\n",
       "0       children          Rural              95.12  18.0              NaN   \n",
       "1        Private          Urban              87.96  39.2     never smoked   \n",
       "2        Private          Urban             110.89  17.6              NaN   \n",
       "3        Private          Rural              69.04  35.9  formerly smoked   \n",
       "4   Never_worked          Rural             161.28  19.1              NaN   \n",
       "5        Private          Urban             210.95  50.1              NaN   \n",
       "6        Private          Urban              77.59  17.7  formerly smoked   \n",
       "7  Self-employed          Rural             243.53  27.0     never smoked   \n",
       "8        Private          Rural              77.67  32.3           smokes   \n",
       "9  Self-employed          Urban             205.84  54.6     never smoked   \n",
       "\n",
       "   stroke  \n",
       "0       0  \n",
       "1       0  \n",
       "2       0  \n",
       "3       0  \n",
       "4       0  \n",
       "5       0  \n",
       "6       0  \n",
       "7       0  \n",
       "8       0  \n",
       "9       0  "
      ]
     },
     "execution_count": 286,
     "metadata": {},
     "output_type": "execute_result"
    }
   ],
   "source": [
    "df.head(10)"
   ]
  },
  {
   "cell_type": "code",
   "execution_count": 287,
   "metadata": {},
   "outputs": [
    {
     "name": "stdout",
     "output_type": "stream",
     "text": [
      "<class 'pandas.core.frame.DataFrame'>\n",
      "RangeIndex: 43400 entries, 0 to 43399\n",
      "Data columns (total 12 columns):\n",
      " #   Column             Non-Null Count  Dtype  \n",
      "---  ------             --------------  -----  \n",
      " 0   id                 43400 non-null  int64  \n",
      " 1   gender             43400 non-null  object \n",
      " 2   age                43400 non-null  float64\n",
      " 3   hypertension       43400 non-null  int64  \n",
      " 4   heart_disease      43400 non-null  int64  \n",
      " 5   ever_married       43400 non-null  object \n",
      " 6   work_type          43400 non-null  object \n",
      " 7   Residence_type     43400 non-null  object \n",
      " 8   avg_glucose_level  43400 non-null  float64\n",
      " 9   bmi                41938 non-null  float64\n",
      " 10  smoking_status     30108 non-null  object \n",
      " 11  stroke             43400 non-null  int64  \n",
      "dtypes: float64(3), int64(4), object(5)\n",
      "memory usage: 4.0+ MB\n"
     ]
    }
   ],
   "source": [
    "df.info()"
   ]
  },
  {
   "cell_type": "code",
   "execution_count": 288,
   "metadata": {},
   "outputs": [
    {
     "data": {
      "text/plain": [
       "0    42617\n",
       "1      783\n",
       "Name: stroke, dtype: int64"
      ]
     },
     "execution_count": 288,
     "metadata": {},
     "output_type": "execute_result"
    }
   ],
   "source": [
    "df['stroke'].value_counts()"
   ]
  },
  {
   "cell_type": "code",
   "execution_count": 289,
   "metadata": {},
   "outputs": [
    {
     "data": {
      "text/plain": [
       "<AxesSubplot:xlabel='stroke', ylabel='count'>"
      ]
     },
     "execution_count": 289,
     "metadata": {},
     "output_type": "execute_result"
    },
    {
     "data": {
      "image/png": "[encoded data removed]",
      "text/plain": [
       "<Figure size 432x288 with 1 Axes>"
      ]
     },
     "metadata": {
      "needs_background": "light"
     },
     "output_type": "display_data"
    }
   ],
   "source": [
    "sns.countplot(data = df, x = 'stroke')"
   ]
  },
  {
   "cell_type": "code",
   "execution_count": 290,
   "metadata": {},
   "outputs": [
    {
     "name": "stdout",
     "output_type": "stream",
     "text": [
      "gender ['Male' 'Female' 'Other']\n",
      "ever_married ['No' 'Yes']\n",
      "work_type ['children' 'Private' 'Never_worked' 'Self-employed' 'Govt_job']\n",
      "Residence_type ['Rural' 'Urban']\n",
      "smoking_status [nan 'never smoked' 'formerly smoked' 'smokes']\n"
     ]
    }
   ],
   "source": [
    "for col in df.columns:\n",
    "    if df[col].dtype == 'O':\n",
    "        print(col, df[col].unique())"
   ]
  },
  {
   "cell_type": "markdown",
   "metadata": {},
   "source": [
    "There are null values present in two columns, bmi and smoking status. There are two possible ways to deal with it, either drop it or fill it with some average value. <br> Depending on how much null value is present in people who had stroke, we will decide whether to drop it or not."
   ]
  },
  {
   "cell_type": "code",
   "execution_count": 291,
   "metadata": {},
   "outputs": [
    {
     "data": {
      "text/html": [
       "<style type=\"text/css\">\n",
       "#T_d5bab_row0_col0, #T_d5bab_row1_col1, #T_d5bab_row2_col2, #T_d5bab_row3_col3, #T_d5bab_row4_col4, #T_d5bab_row5_col5, #T_d5bab_row6_col6 {\n",
       "  background-color: #fde725;\n",
       "  color: #000000;\n",
       "}\n",
       "#T_d5bab_row0_col1, #T_d5bab_row0_col2, #T_d5bab_row0_col3, #T_d5bab_row0_col4, #T_d5bab_row0_col5, #T_d5bab_row0_col6, #T_d5bab_row2_col0, #T_d5bab_row6_col0, #T_d5bab_row6_col5 {\n",
       "  background-color: #440154;\n",
       "  color: #f1f1f1;\n",
       "}\n",
       "#T_d5bab_row1_col0 {\n",
       "  background-color: #450457;\n",
       "  color: #f1f1f1;\n",
       "}\n",
       "#T_d5bab_row1_col2 {\n",
       "  background-color: #39568c;\n",
       "  color: #f1f1f1;\n",
       "}\n",
       "#T_d5bab_row1_col3 {\n",
       "  background-color: #3c508b;\n",
       "  color: #f1f1f1;\n",
       "}\n",
       "#T_d5bab_row1_col4 {\n",
       "  background-color: #3f4889;\n",
       "  color: #f1f1f1;\n",
       "}\n",
       "#T_d5bab_row1_col5 {\n",
       "  background-color: #2f6b8e;\n",
       "  color: #f1f1f1;\n",
       "}\n",
       "#T_d5bab_row1_col6, #T_d5bab_row4_col2, #T_d5bab_row5_col2 {\n",
       "  background-color: #453581;\n",
       "  color: #f1f1f1;\n",
       "}\n",
       "#T_d5bab_row2_col1 {\n",
       "  background-color: #39558c;\n",
       "  color: #f1f1f1;\n",
       "}\n",
       "#T_d5bab_row2_col3, #T_d5bab_row3_col6 {\n",
       "  background-color: #482878;\n",
       "  color: #f1f1f1;\n",
       "}\n",
       "#T_d5bab_row2_col4, #T_d5bab_row4_col3 {\n",
       "  background-color: #46307e;\n",
       "  color: #f1f1f1;\n",
       "}\n",
       "#T_d5bab_row2_col5, #T_d5bab_row6_col1 {\n",
       "  background-color: #46337f;\n",
       "  color: #f1f1f1;\n",
       "}\n",
       "#T_d5bab_row2_col6 {\n",
       "  background-color: #481b6d;\n",
       "  color: #f1f1f1;\n",
       "}\n",
       "#T_d5bab_row3_col0 {\n",
       "  background-color: #440256;\n",
       "  color: #f1f1f1;\n",
       "}\n",
       "#T_d5bab_row3_col1 {\n",
       "  background-color: #3c4f8a;\n",
       "  color: #f1f1f1;\n",
       "}\n",
       "#T_d5bab_row3_col2 {\n",
       "  background-color: #482979;\n",
       "  color: #f1f1f1;\n",
       "}\n",
       "#T_d5bab_row3_col4 {\n",
       "  background-color: #472d7b;\n",
       "  color: #f1f1f1;\n",
       "}\n",
       "#T_d5bab_row3_col5 {\n",
       "  background-color: #471063;\n",
       "  color: #f1f1f1;\n",
       "}\n",
       "#T_d5bab_row4_col0 {\n",
       "  background-color: #46085c;\n",
       "  color: #f1f1f1;\n",
       "}\n",
       "#T_d5bab_row4_col1 {\n",
       "  background-color: #3e4c8a;\n",
       "  color: #f1f1f1;\n",
       "}\n",
       "#T_d5bab_row4_col5 {\n",
       "  background-color: #443b84;\n",
       "  color: #f1f1f1;\n",
       "}\n",
       "#T_d5bab_row4_col6 {\n",
       "  background-color: #481c6e;\n",
       "  color: #f1f1f1;\n",
       "}\n",
       "#T_d5bab_row5_col0, #T_d5bab_row5_col6 {\n",
       "  background-color: #46075a;\n",
       "  color: #f1f1f1;\n",
       "}\n",
       "#T_d5bab_row5_col1 {\n",
       "  background-color: #2f6c8e;\n",
       "  color: #f1f1f1;\n",
       "}\n",
       "#T_d5bab_row5_col3 {\n",
       "  background-color: #471365;\n",
       "  color: #f1f1f1;\n",
       "}\n",
       "#T_d5bab_row5_col4 {\n",
       "  background-color: #443a83;\n",
       "  color: #f1f1f1;\n",
       "}\n",
       "#T_d5bab_row6_col2 {\n",
       "  background-color: #481a6c;\n",
       "  color: #f1f1f1;\n",
       "}\n",
       "#T_d5bab_row6_col3 {\n",
       "  background-color: #482677;\n",
       "  color: #f1f1f1;\n",
       "}\n",
       "#T_d5bab_row6_col4 {\n",
       "  background-color: #481668;\n",
       "  color: #f1f1f1;\n",
       "}\n",
       "</style>\n",
       "<table id=\"T_d5bab\">\n",
       "  <thead>\n",
       "    <tr>\n",
       "      <th class=\"blank level0\" >&nbsp;</th>\n",
       "      <th id=\"T_d5bab_level0_col0\" class=\"col_heading level0 col0\" >id</th>\n",
       "      <th id=\"T_d5bab_level0_col1\" class=\"col_heading level0 col1\" >age</th>\n",
       "      <th id=\"T_d5bab_level0_col2\" class=\"col_heading level0 col2\" >hypertension</th>\n",
       "      <th id=\"T_d5bab_level0_col3\" class=\"col_heading level0 col3\" >heart_disease</th>\n",
       "      <th id=\"T_d5bab_level0_col4\" class=\"col_heading level0 col4\" >avg_glucose_level</th>\n",
       "      <th id=\"T_d5bab_level0_col5\" class=\"col_heading level0 col5\" >bmi</th>\n",
       "      <th id=\"T_d5bab_level0_col6\" class=\"col_heading level0 col6\" >stroke</th>\n",
       "    </tr>\n",
       "  </thead>\n",
       "  <tbody>\n",
       "    <tr>\n",
       "      <th id=\"T_d5bab_level0_row0\" class=\"row_heading level0 row0\" >id</th>\n",
       "      <td id=\"T_d5bab_row0_col0\" class=\"data row0 col0\" >1.000000</td>\n",
       "      <td id=\"T_d5bab_row0_col1\" class=\"data row0 col1\" >0.012760</td>\n",
       "      <td id=\"T_d5bab_row0_col2\" class=\"data row0 col2\" >0.006571</td>\n",
       "      <td id=\"T_d5bab_row0_col3\" class=\"data row0 col3\" >0.009234</td>\n",
       "      <td id=\"T_d5bab_row0_col4\" class=\"data row0 col4\" >0.024634</td>\n",
       "      <td id=\"T_d5bab_row0_col5\" class=\"data row0 col5\" >0.018839</td>\n",
       "      <td id=\"T_d5bab_row0_col6\" class=\"data row0 col6\" >0.002976</td>\n",
       "    </tr>\n",
       "    <tr>\n",
       "      <th id=\"T_d5bab_level0_row1\" class=\"row_heading level0 row1\" >age</th>\n",
       "      <td id=\"T_d5bab_row1_col0\" class=\"data row1 col0\" >0.012760</td>\n",
       "      <td id=\"T_d5bab_row1_col1\" class=\"data row1 col1\" >1.000000</td>\n",
       "      <td id=\"T_d5bab_row1_col2\" class=\"data row1 col2\" >0.272169</td>\n",
       "      <td id=\"T_d5bab_row1_col3\" class=\"data row1 col3\" >0.250188</td>\n",
       "      <td id=\"T_d5bab_row1_col4\" class=\"data row1 col4\" >0.237627</td>\n",
       "      <td id=\"T_d5bab_row1_col5\" class=\"data row1 col5\" >0.358897</td>\n",
       "      <td id=\"T_d5bab_row1_col6\" class=\"data row1 col6\" >0.156049</td>\n",
       "    </tr>\n",
       "    <tr>\n",
       "      <th id=\"T_d5bab_level0_row2\" class=\"row_heading level0 row2\" >hypertension</th>\n",
       "      <td id=\"T_d5bab_row2_col0\" class=\"data row2 col0\" >0.006571</td>\n",
       "      <td id=\"T_d5bab_row2_col1\" class=\"data row2 col1\" >0.272169</td>\n",
       "      <td id=\"T_d5bab_row2_col2\" class=\"data row2 col2\" >1.000000</td>\n",
       "      <td id=\"T_d5bab_row2_col3\" class=\"data row2 col3\" >0.119777</td>\n",
       "      <td id=\"T_d5bab_row2_col4\" class=\"data row2 col4\" >0.160211</td>\n",
       "      <td id=\"T_d5bab_row2_col5\" class=\"data row2 col5\" >0.161225</td>\n",
       "      <td id=\"T_d5bab_row2_col6\" class=\"data row2 col6\" >0.075332</td>\n",
       "    </tr>\n",
       "    <tr>\n",
       "      <th id=\"T_d5bab_level0_row3\" class=\"row_heading level0 row3\" >heart_disease</th>\n",
       "      <td id=\"T_d5bab_row3_col0\" class=\"data row3 col0\" >0.009234</td>\n",
       "      <td id=\"T_d5bab_row3_col1\" class=\"data row3 col1\" >0.250188</td>\n",
       "      <td id=\"T_d5bab_row3_col2\" class=\"data row3 col2\" >0.119777</td>\n",
       "      <td id=\"T_d5bab_row3_col3\" class=\"data row3 col3\" >1.000000</td>\n",
       "      <td id=\"T_d5bab_row3_col4\" class=\"data row3 col4\" >0.146938</td>\n",
       "      <td id=\"T_d5bab_row3_col5\" class=\"data row3 col5\" >0.057677</td>\n",
       "      <td id=\"T_d5bab_row3_col6\" class=\"data row3 col6\" >0.113763</td>\n",
       "    </tr>\n",
       "    <tr>\n",
       "      <th id=\"T_d5bab_level0_row4\" class=\"row_heading level0 row4\" >avg_glucose_level</th>\n",
       "      <td id=\"T_d5bab_row4_col0\" class=\"data row4 col0\" >0.024634</td>\n",
       "      <td id=\"T_d5bab_row4_col1\" class=\"data row4 col1\" >0.237627</td>\n",
       "      <td id=\"T_d5bab_row4_col2\" class=\"data row4 col2\" >0.160211</td>\n",
       "      <td id=\"T_d5bab_row4_col3\" class=\"data row4 col3\" >0.146938</td>\n",
       "      <td id=\"T_d5bab_row4_col4\" class=\"data row4 col4\" >1.000000</td>\n",
       "      <td id=\"T_d5bab_row4_col5\" class=\"data row4 col5\" >0.191295</td>\n",
       "      <td id=\"T_d5bab_row4_col6\" class=\"data row4 col6\" >0.078917</td>\n",
       "    </tr>\n",
       "    <tr>\n",
       "      <th id=\"T_d5bab_level0_row5\" class=\"row_heading level0 row5\" >bmi</th>\n",
       "      <td id=\"T_d5bab_row5_col0\" class=\"data row5 col0\" >0.018839</td>\n",
       "      <td id=\"T_d5bab_row5_col1\" class=\"data row5 col1\" >0.358897</td>\n",
       "      <td id=\"T_d5bab_row5_col2\" class=\"data row5 col2\" >0.161225</td>\n",
       "      <td id=\"T_d5bab_row5_col3\" class=\"data row5 col3\" >0.057677</td>\n",
       "      <td id=\"T_d5bab_row5_col4\" class=\"data row5 col4\" >0.191295</td>\n",
       "      <td id=\"T_d5bab_row5_col5\" class=\"data row5 col5\" >1.000000</td>\n",
       "      <td id=\"T_d5bab_row5_col6\" class=\"data row5 col6\" >0.020285</td>\n",
       "    </tr>\n",
       "    <tr>\n",
       "      <th id=\"T_d5bab_level0_row6\" class=\"row_heading level0 row6\" >stroke</th>\n",
       "      <td id=\"T_d5bab_row6_col0\" class=\"data row6 col0\" >0.002976</td>\n",
       "      <td id=\"T_d5bab_row6_col1\" class=\"data row6 col1\" >0.156049</td>\n",
       "      <td id=\"T_d5bab_row6_col2\" class=\"data row6 col2\" >0.075332</td>\n",
       "      <td id=\"T_d5bab_row6_col3\" class=\"data row6 col3\" >0.113763</td>\n",
       "      <td id=\"T_d5bab_row6_col4\" class=\"data row6 col4\" >0.078917</td>\n",
       "      <td id=\"T_d5bab_row6_col5\" class=\"data row6 col5\" >0.020285</td>\n",
       "      <td id=\"T_d5bab_row6_col6\" class=\"data row6 col6\" >1.000000</td>\n",
       "    </tr>\n",
       "  </tbody>\n",
       "</table>\n"
      ],
      "text/plain": [
       "<pandas.io.formats.style.Styler at 0x1c9d36489d0>"
      ]
     },
     "execution_count": 291,
     "metadata": {},
     "output_type": "execute_result"
    }
   ],
   "source": [
    "df.corr().style.background_gradient(cmap='viridis')"
   ]
  },
  {
   "cell_type": "code",
   "execution_count": 292,
   "metadata": {},
   "outputs": [
    {
     "data": {
      "text/plain": [
       "<AxesSubplot:xlabel='smoking_status', ylabel='count'>"
      ]
     },
     "execution_count": 292,
     "metadata": {},
     "output_type": "execute_result"
    },
    {
     "data": {
      "image/png": "[encoded data removed]",
      "text/plain": [
       "<Figure size 432x288 with 1 Axes>"
      ]
     },
     "metadata": {
      "needs_background": "light"
     },
     "output_type": "display_data"
    }
   ],
   "source": [
    "sns.countplot(data = df[df['stroke'] == 1], x = 'smoking_status')"
   ]
  },
  {
   "cell_type": "code",
   "execution_count": 293,
   "metadata": {},
   "outputs": [
    {
     "data": {
      "text/plain": [
       "Female    25665\n",
       "Male      17724\n",
       "Other        11\n",
       "Name: gender, dtype: int64"
      ]
     },
     "execution_count": 293,
     "metadata": {},
     "output_type": "execute_result"
    }
   ],
   "source": [
    "df.gender.value_counts()"
   ]
  },
  {
   "cell_type": "code",
   "execution_count": 294,
   "metadata": {},
   "outputs": [],
   "source": [
    "df = df[df.gender != 'Other']"
   ]
  },
  {
   "cell_type": "code",
   "execution_count": 295,
   "metadata": {},
   "outputs": [
    {
     "data": {
      "text/plain": [
       "id                    0.000000\n",
       "gender                0.000000\n",
       "age                   0.000000\n",
       "hypertension          0.000000\n",
       "heart_disease         0.000000\n",
       "ever_married          0.000000\n",
       "work_type             0.000000\n",
       "Residence_type        0.000000\n",
       "avg_glucose_level     0.000000\n",
       "bmi                  17.879949\n",
       "smoking_status       18.518519\n",
       "stroke                0.000000\n",
       "dtype: float64"
      ]
     },
     "execution_count": 295,
     "metadata": {},
     "output_type": "execute_result"
    }
   ],
   "source": [
    "df[df['stroke'] == 1].isna().sum()/len(df[df['stroke'] == 1])*100"
   ]
  },
  {
   "cell_type": "markdown",
   "metadata": {},
   "source": [
    "So, almost 18% of people that had stroke has missing values. We are going to drop missing values."
   ]
  },
  {
   "cell_type": "code",
   "execution_count": 296,
   "metadata": {},
   "outputs": [
    {
     "data": {
      "text/plain": [
       "\"\\ndef train_imputation(dataset, fill_type = 'drop'):\\n\\n    if fill_type == 'drop':\\n        dataset.dropna(axis = 0, inplace = True)\\n\\n    if fill_type == 'mode':\\n        imputation = SimpleImputer(strategy = 'most_frequent')\\n\""
      ]
     },
     "execution_count": 296,
     "metadata": {},
     "output_type": "execute_result"
    }
   ],
   "source": [
    "'''\n",
    "def train_imputation(dataset, fill_type = 'drop'):\n",
    "\n",
    "    if fill_type == 'drop':\n",
    "        dataset.dropna(axis = 0, inplace = True)\n",
    "\n",
    "    if fill_type == 'mode':\n",
    "        imputation = SimpleImputer(strategy = 'most_frequent')\n",
    "'''"
   ]
  },
  {
   "cell_type": "code",
   "execution_count": 297,
   "metadata": {},
   "outputs": [],
   "source": [
    "df.dropna(axis = 0, inplace = True)"
   ]
  },
  {
   "cell_type": "code",
   "execution_count": 298,
   "metadata": {},
   "outputs": [],
   "source": [
    "df.drop(['id'], axis = 1, inplace = True)"
   ]
  },
  {
   "cell_type": "code",
   "execution_count": 299,
   "metadata": {},
   "outputs": [
    {
     "data": {
      "text/plain": [
       "0    28517\n",
       "1      548\n",
       "Name: stroke, dtype: int64"
      ]
     },
     "execution_count": 299,
     "metadata": {},
     "output_type": "execute_result"
    }
   ],
   "source": [
    "df['stroke'].value_counts()"
   ]
  },
  {
   "cell_type": "code",
   "execution_count": 300,
   "metadata": {},
   "outputs": [],
   "source": [
    "cat_col = [col for col in df.columns if df[col].dtype == 'O']\n",
    "ohe = OneHotEncoder(sparse = False)\n",
    "\n",
    "def one_hot(X_train, X_test, encode = ohe, cat_col = cat_col):\n",
    "\n",
    "    oh_train = pd.DataFrame(encode.fit_transform(X_train[cat_col]))\n",
    "    oh_train.index = X_train.index\n",
    "    oh_train.columns = np.concatenate(encode.categories_)\n",
    "    X_train = X_train.drop(cat_col, axis = 1)\n",
    "    X_train  = pd.concat([X_train , oh_train], axis = 1)\n",
    "\n",
    "    oh_test = pd.DataFrame(encode.transform(X_test[cat_col]))\n",
    "    oh_test.index = X_test.index\n",
    "    oh_test.columns = np.concatenate(encode.categories_)\n",
    "    X_test = X_test.drop(cat_col, axis = 1)\n",
    "    X_test  = pd.concat([X_test, oh_test], axis = 1)\n",
    "\n",
    "    X_train.drop(['Male', 'No', 'children', 'Rural', 'formerly smoked'], axis = 1, inplace = True)\n",
    "    X_test.drop(['Female', 'No', 'children', 'Rural', 'formerly smoked'], axis = 1, inplace = True)\n",
    "\n",
    "    return X_train, X_test"
   ]
  },
  {
   "cell_type": "code",
   "execution_count": 301,
   "metadata": {},
   "outputs": [],
   "source": [
    "scale_cols = ['age', 'avg_glucose_level', 'bmi']\n",
    "scale_transform = MinMaxScaler()\n",
    "\n",
    "def scaler(X_train, X_test, encode = scale_transform, scale_cols = scale_cols):\n",
    "    scaled = encode.fit_transform(X_train[scale_cols])\n",
    "    scaled = pd.DataFrame(scaled, columns = scale_cols)\n",
    "    scaled.index = X_train.index\n",
    "    X_train[scale_cols] = scaled\n",
    "\n",
    "    scaled = encode.transform(X_test[scale_cols])\n",
    "    scaled = pd.DataFrame(scaled, columns = scale_cols)\n",
    "    scaled.index = X_test.index\n",
    "    scaled.head()\n",
    "    X_test[scale_cols] = scaled\n",
    "\n",
    "    return X_train, X_test"
   ]
  },
  {
   "cell_type": "code",
   "execution_count": 302,
   "metadata": {},
   "outputs": [],
   "source": [
    "X = df.drop(['stroke'], axis = 1)\n",
    "y = df['stroke']"
   ]
  },
  {
   "cell_type": "markdown",
   "metadata": {},
   "source": [
    "### Model preparation"
   ]
  },
  {
   "cell_type": "code",
   "execution_count": 303,
   "metadata": {},
   "outputs": [],
   "source": [
    "lr = LogisticRegression()\n",
    "knn = KNeighborsClassifier()\n",
    "xgbc = XGBClassifier()"
   ]
  },
  {
   "cell_type": "code",
   "execution_count": 304,
   "metadata": {},
   "outputs": [],
   "source": [
    "def training(X_train, y_train, X_test):\n",
    "    models = {'LogisticRegression': lr, 'KNeighbors': knn, 'XGBoost':xgbc}\n",
    "    preds = {}\n",
    "\n",
    "    for name, model in models.items():\n",
    "        model.fit(X_train, y_train)\n",
    "        pred = model.predict(X_test)\n",
    "        print('{}, done.'.format(name))\n",
    "        preds[name] = pred\n",
    "\n",
    "    return preds"
   ]
  },
  {
   "cell_type": "code",
   "execution_count": 305,
   "metadata": {},
   "outputs": [],
   "source": [
    "def classify(y, preds):\n",
    "    classifcations = {}\n",
    "\n",
    "    for name, pred in preds.items():\n",
    "        classifcation = classification_report(y, pred)\n",
    "        classifcations[name] = classifcation\n",
    "            \n",
    "    return classifcations "
   ]
  },
  {
   "cell_type": "markdown",
   "metadata": {},
   "source": [
    "## Modelling without dealing with unbalanced data"
   ]
  },
  {
   "cell_type": "code",
   "execution_count": 306,
   "metadata": {},
   "outputs": [],
   "source": [
    "X_train, X_test, y_train, y_test = train_test_split(X, y, test_size = 0.2, random_state = 42)"
   ]
  },
  {
   "cell_type": "code",
   "execution_count": 307,
   "metadata": {},
   "outputs": [
    {
     "data": {
      "text/html": [
       "<div>\n",
       "<style scoped>\n",
       "    .dataframe tbody tr th:only-of-type {\n",
       "        vertical-align: middle;\n",
       "    }\n",
       "\n",
       "    .dataframe tbody tr th {\n",
       "        vertical-align: top;\n",
       "    }\n",
       "\n",
       "    .dataframe thead th {\n",
       "        text-align: right;\n",
       "    }\n",
       "</style>\n",
       "<table border=\"1\" class=\"dataframe\">\n",
       "  <thead>\n",
       "    <tr style=\"text-align: right;\">\n",
       "      <th></th>\n",
       "      <th>gender</th>\n",
       "      <th>age</th>\n",
       "      <th>hypertension</th>\n",
       "      <th>heart_disease</th>\n",
       "      <th>ever_married</th>\n",
       "      <th>work_type</th>\n",
       "      <th>Residence_type</th>\n",
       "      <th>avg_glucose_level</th>\n",
       "      <th>bmi</th>\n",
       "      <th>smoking_status</th>\n",
       "    </tr>\n",
       "  </thead>\n",
       "  <tbody>\n",
       "    <tr>\n",
       "      <th>35895</th>\n",
       "      <td>Male</td>\n",
       "      <td>64.0</td>\n",
       "      <td>1</td>\n",
       "      <td>0</td>\n",
       "      <td>Yes</td>\n",
       "      <td>Govt_job</td>\n",
       "      <td>Urban</td>\n",
       "      <td>227.58</td>\n",
       "      <td>48.6</td>\n",
       "      <td>never smoked</td>\n",
       "    </tr>\n",
       "    <tr>\n",
       "      <th>30251</th>\n",
       "      <td>Male</td>\n",
       "      <td>79.0</td>\n",
       "      <td>0</td>\n",
       "      <td>1</td>\n",
       "      <td>Yes</td>\n",
       "      <td>Private</td>\n",
       "      <td>Rural</td>\n",
       "      <td>246.58</td>\n",
       "      <td>28.5</td>\n",
       "      <td>formerly smoked</td>\n",
       "    </tr>\n",
       "    <tr>\n",
       "      <th>6563</th>\n",
       "      <td>Male</td>\n",
       "      <td>30.0</td>\n",
       "      <td>0</td>\n",
       "      <td>0</td>\n",
       "      <td>No</td>\n",
       "      <td>Private</td>\n",
       "      <td>Rural</td>\n",
       "      <td>94.46</td>\n",
       "      <td>31.1</td>\n",
       "      <td>formerly smoked</td>\n",
       "    </tr>\n",
       "    <tr>\n",
       "      <th>33163</th>\n",
       "      <td>Female</td>\n",
       "      <td>64.0</td>\n",
       "      <td>0</td>\n",
       "      <td>0</td>\n",
       "      <td>Yes</td>\n",
       "      <td>Private</td>\n",
       "      <td>Rural</td>\n",
       "      <td>83.84</td>\n",
       "      <td>20.7</td>\n",
       "      <td>never smoked</td>\n",
       "    </tr>\n",
       "    <tr>\n",
       "      <th>47</th>\n",
       "      <td>Female</td>\n",
       "      <td>66.0</td>\n",
       "      <td>0</td>\n",
       "      <td>0</td>\n",
       "      <td>Yes</td>\n",
       "      <td>Private</td>\n",
       "      <td>Rural</td>\n",
       "      <td>141.24</td>\n",
       "      <td>28.5</td>\n",
       "      <td>never smoked</td>\n",
       "    </tr>\n",
       "  </tbody>\n",
       "</table>\n",
       "</div>"
      ],
      "text/plain": [
       "       gender   age  hypertension  heart_disease ever_married work_type  \\\n",
       "35895    Male  64.0             1              0          Yes  Govt_job   \n",
       "30251    Male  79.0             0              1          Yes   Private   \n",
       "6563     Male  30.0             0              0           No   Private   \n",
       "33163  Female  64.0             0              0          Yes   Private   \n",
       "47     Female  66.0             0              0          Yes   Private   \n",
       "\n",
       "      Residence_type  avg_glucose_level   bmi   smoking_status  \n",
       "35895          Urban             227.58  48.6     never smoked  \n",
       "30251          Rural             246.58  28.5  formerly smoked  \n",
       "6563           Rural              94.46  31.1  formerly smoked  \n",
       "33163          Rural              83.84  20.7     never smoked  \n",
       "47             Rural             141.24  28.5     never smoked  "
      ]
     },
     "execution_count": 307,
     "metadata": {},
     "output_type": "execute_result"
    }
   ],
   "source": [
    "X_train.head()"
   ]
  },
  {
   "cell_type": "code",
   "execution_count": 308,
   "metadata": {},
   "outputs": [],
   "source": [
    "X_train, X_test = one_hot(X_train, X_test)\n",
    "X_train, X_test = scaler(X_train, X_test)"
   ]
  },
  {
   "cell_type": "code",
   "execution_count": 309,
   "metadata": {},
   "outputs": [
    {
     "data": {
      "text/html": [
       "<div>\n",
       "<style scoped>\n",
       "    .dataframe tbody tr th:only-of-type {\n",
       "        vertical-align: middle;\n",
       "    }\n",
       "\n",
       "    .dataframe tbody tr th {\n",
       "        vertical-align: top;\n",
       "    }\n",
       "\n",
       "    .dataframe thead th {\n",
       "        text-align: right;\n",
       "    }\n",
       "</style>\n",
       "<table border=\"1\" class=\"dataframe\">\n",
       "  <thead>\n",
       "    <tr style=\"text-align: right;\">\n",
       "      <th></th>\n",
       "      <th>age</th>\n",
       "      <th>hypertension</th>\n",
       "      <th>heart_disease</th>\n",
       "      <th>avg_glucose_level</th>\n",
       "      <th>bmi</th>\n",
       "      <th>Female</th>\n",
       "      <th>Yes</th>\n",
       "      <th>Govt_job</th>\n",
       "      <th>Never_worked</th>\n",
       "      <th>Private</th>\n",
       "      <th>Self-employed</th>\n",
       "      <th>Urban</th>\n",
       "      <th>never smoked</th>\n",
       "      <th>smokes</th>\n",
       "    </tr>\n",
       "  </thead>\n",
       "  <tbody>\n",
       "    <tr>\n",
       "      <th>3349</th>\n",
       "      <td>0.138889</td>\n",
       "      <td>0</td>\n",
       "      <td>0</td>\n",
       "      <td>0.123115</td>\n",
       "      <td>0.213675</td>\n",
       "      <td>1.0</td>\n",
       "      <td>0.0</td>\n",
       "      <td>0.0</td>\n",
       "      <td>0.0</td>\n",
       "      <td>1.0</td>\n",
       "      <td>0.0</td>\n",
       "      <td>0.0</td>\n",
       "      <td>0.0</td>\n",
       "      <td>1.0</td>\n",
       "    </tr>\n",
       "    <tr>\n",
       "      <th>28068</th>\n",
       "      <td>0.486111</td>\n",
       "      <td>0</td>\n",
       "      <td>0</td>\n",
       "      <td>0.156287</td>\n",
       "      <td>0.255189</td>\n",
       "      <td>1.0</td>\n",
       "      <td>1.0</td>\n",
       "      <td>1.0</td>\n",
       "      <td>0.0</td>\n",
       "      <td>0.0</td>\n",
       "      <td>0.0</td>\n",
       "      <td>0.0</td>\n",
       "      <td>1.0</td>\n",
       "      <td>0.0</td>\n",
       "    </tr>\n",
       "    <tr>\n",
       "      <th>33420</th>\n",
       "      <td>0.319444</td>\n",
       "      <td>0</td>\n",
       "      <td>0</td>\n",
       "      <td>0.067150</td>\n",
       "      <td>0.120879</td>\n",
       "      <td>1.0</td>\n",
       "      <td>0.0</td>\n",
       "      <td>0.0</td>\n",
       "      <td>0.0</td>\n",
       "      <td>1.0</td>\n",
       "      <td>0.0</td>\n",
       "      <td>0.0</td>\n",
       "      <td>1.0</td>\n",
       "      <td>0.0</td>\n",
       "    </tr>\n",
       "    <tr>\n",
       "      <th>30245</th>\n",
       "      <td>0.305556</td>\n",
       "      <td>0</td>\n",
       "      <td>0</td>\n",
       "      <td>0.172174</td>\n",
       "      <td>0.279609</td>\n",
       "      <td>0.0</td>\n",
       "      <td>1.0</td>\n",
       "      <td>0.0</td>\n",
       "      <td>0.0</td>\n",
       "      <td>1.0</td>\n",
       "      <td>0.0</td>\n",
       "      <td>0.0</td>\n",
       "      <td>0.0</td>\n",
       "      <td>1.0</td>\n",
       "    </tr>\n",
       "    <tr>\n",
       "      <th>32966</th>\n",
       "      <td>0.277778</td>\n",
       "      <td>0</td>\n",
       "      <td>0</td>\n",
       "      <td>0.298255</td>\n",
       "      <td>0.273504</td>\n",
       "      <td>1.0</td>\n",
       "      <td>0.0</td>\n",
       "      <td>1.0</td>\n",
       "      <td>0.0</td>\n",
       "      <td>0.0</td>\n",
       "      <td>0.0</td>\n",
       "      <td>0.0</td>\n",
       "      <td>1.0</td>\n",
       "      <td>0.0</td>\n",
       "    </tr>\n",
       "    <tr>\n",
       "      <th>27227</th>\n",
       "      <td>0.597222</td>\n",
       "      <td>0</td>\n",
       "      <td>0</td>\n",
       "      <td>0.072657</td>\n",
       "      <td>0.410256</td>\n",
       "      <td>1.0</td>\n",
       "      <td>1.0</td>\n",
       "      <td>0.0</td>\n",
       "      <td>0.0</td>\n",
       "      <td>0.0</td>\n",
       "      <td>1.0</td>\n",
       "      <td>1.0</td>\n",
       "      <td>0.0</td>\n",
       "      <td>1.0</td>\n",
       "    </tr>\n",
       "    <tr>\n",
       "      <th>12518</th>\n",
       "      <td>0.583333</td>\n",
       "      <td>1</td>\n",
       "      <td>0</td>\n",
       "      <td>0.178105</td>\n",
       "      <td>0.252747</td>\n",
       "      <td>1.0</td>\n",
       "      <td>1.0</td>\n",
       "      <td>0.0</td>\n",
       "      <td>0.0</td>\n",
       "      <td>1.0</td>\n",
       "      <td>0.0</td>\n",
       "      <td>0.0</td>\n",
       "      <td>1.0</td>\n",
       "      <td>0.0</td>\n",
       "    </tr>\n",
       "    <tr>\n",
       "      <th>36827</th>\n",
       "      <td>0.486111</td>\n",
       "      <td>0</td>\n",
       "      <td>0</td>\n",
       "      <td>0.069226</td>\n",
       "      <td>0.184371</td>\n",
       "      <td>0.0</td>\n",
       "      <td>1.0</td>\n",
       "      <td>0.0</td>\n",
       "      <td>0.0</td>\n",
       "      <td>1.0</td>\n",
       "      <td>0.0</td>\n",
       "      <td>1.0</td>\n",
       "      <td>0.0</td>\n",
       "      <td>0.0</td>\n",
       "    </tr>\n",
       "    <tr>\n",
       "      <th>3851</th>\n",
       "      <td>0.444444</td>\n",
       "      <td>0</td>\n",
       "      <td>0</td>\n",
       "      <td>0.269192</td>\n",
       "      <td>0.440781</td>\n",
       "      <td>1.0</td>\n",
       "      <td>0.0</td>\n",
       "      <td>0.0</td>\n",
       "      <td>0.0</td>\n",
       "      <td>1.0</td>\n",
       "      <td>0.0</td>\n",
       "      <td>0.0</td>\n",
       "      <td>0.0</td>\n",
       "      <td>1.0</td>\n",
       "    </tr>\n",
       "    <tr>\n",
       "      <th>15121</th>\n",
       "      <td>0.472222</td>\n",
       "      <td>0</td>\n",
       "      <td>0</td>\n",
       "      <td>0.157389</td>\n",
       "      <td>0.330891</td>\n",
       "      <td>0.0</td>\n",
       "      <td>1.0</td>\n",
       "      <td>0.0</td>\n",
       "      <td>0.0</td>\n",
       "      <td>0.0</td>\n",
       "      <td>1.0</td>\n",
       "      <td>0.0</td>\n",
       "      <td>0.0</td>\n",
       "      <td>1.0</td>\n",
       "    </tr>\n",
       "  </tbody>\n",
       "</table>\n",
       "</div>"
      ],
      "text/plain": [
       "            age  hypertension  heart_disease  avg_glucose_level       bmi  \\\n",
       "3349   0.138889             0              0           0.123115  0.213675   \n",
       "28068  0.486111             0              0           0.156287  0.255189   \n",
       "33420  0.319444             0              0           0.067150  0.120879   \n",
       "30245  0.305556             0              0           0.172174  0.279609   \n",
       "32966  0.277778             0              0           0.298255  0.273504   \n",
       "27227  0.597222             0              0           0.072657  0.410256   \n",
       "12518  0.583333             1              0           0.178105  0.252747   \n",
       "36827  0.486111             0              0           0.069226  0.184371   \n",
       "3851   0.444444             0              0           0.269192  0.440781   \n",
       "15121  0.472222             0              0           0.157389  0.330891   \n",
       "\n",
       "       Female  Yes  Govt_job  Never_worked  Private  Self-employed  Urban  \\\n",
       "3349      1.0  0.0       0.0           0.0      1.0            0.0    0.0   \n",
       "28068     1.0  1.0       1.0           0.0      0.0            0.0    0.0   \n",
       "33420     1.0  0.0       0.0           0.0      1.0            0.0    0.0   \n",
       "30245     0.0  1.0       0.0           0.0      1.0            0.0    0.0   \n",
       "32966     1.0  0.0       1.0           0.0      0.0            0.0    0.0   \n",
       "27227     1.0  1.0       0.0           0.0      0.0            1.0    1.0   \n",
       "12518     1.0  1.0       0.0           0.0      1.0            0.0    0.0   \n",
       "36827     0.0  1.0       0.0           0.0      1.0            0.0    1.0   \n",
       "3851      1.0  0.0       0.0           0.0      1.0            0.0    0.0   \n",
       "15121     0.0  1.0       0.0           0.0      0.0            1.0    0.0   \n",
       "\n",
       "       never smoked  smokes  \n",
       "3349            0.0     1.0  \n",
       "28068           1.0     0.0  \n",
       "33420           1.0     0.0  \n",
       "30245           0.0     1.0  \n",
       "32966           1.0     0.0  \n",
       "27227           0.0     1.0  \n",
       "12518           1.0     0.0  \n",
       "36827           0.0     0.0  \n",
       "3851            0.0     1.0  \n",
       "15121           0.0     1.0  "
      ]
     },
     "execution_count": 309,
     "metadata": {},
     "output_type": "execute_result"
    }
   ],
   "source": [
    "X_train.sample(10)"
   ]
  },
  {
   "cell_type": "code",
   "execution_count": 310,
   "metadata": {},
   "outputs": [
    {
     "name": "stdout",
     "output_type": "stream",
     "text": [
      "LogisticRegression, done.\n",
      "KNeighbors, done.\n",
      "XGBoost, done.\n"
     ]
    }
   ],
   "source": [
    "preds = training(X_train, y_train, X_test)\n",
    "class_score = classify(y_test, preds)"
   ]
  },
  {
   "cell_type": "code",
   "execution_count": 311,
   "metadata": {},
   "outputs": [
    {
     "name": "stdout",
     "output_type": "stream",
     "text": [
      "              precision    recall  f1-score   support\n",
      "\n",
      "           0       0.98      1.00      0.99      5713\n",
      "           1       0.00      0.00      0.00       100\n",
      "\n",
      "    accuracy                           0.98      5813\n",
      "   macro avg       0.49      0.50      0.50      5813\n",
      "weighted avg       0.97      0.98      0.97      5813\n",
      "\n"
     ]
    }
   ],
   "source": [
    "print(class_score['LogisticRegression'])"
   ]
  },
  {
   "cell_type": "code",
   "execution_count": 312,
   "metadata": {},
   "outputs": [
    {
     "name": "stdout",
     "output_type": "stream",
     "text": [
      "              precision    recall  f1-score   support\n",
      "\n",
      "           0       0.98      1.00      0.99      5713\n",
      "           1       0.00      0.00      0.00       100\n",
      "\n",
      "    accuracy                           0.98      5813\n",
      "   macro avg       0.49      0.50      0.50      5813\n",
      "weighted avg       0.97      0.98      0.97      5813\n",
      "\n"
     ]
    }
   ],
   "source": [
    "print(class_score['KNeighbors'])"
   ]
  },
  {
   "cell_type": "code",
   "execution_count": 313,
   "metadata": {},
   "outputs": [
    {
     "name": "stdout",
     "output_type": "stream",
     "text": [
      "              precision    recall  f1-score   support\n",
      "\n",
      "           0       0.98      1.00      0.99      5713\n",
      "           1       0.00      0.00      0.00       100\n",
      "\n",
      "    accuracy                           0.98      5813\n",
      "   macro avg       0.49      0.50      0.50      5813\n",
      "weighted avg       0.97      0.98      0.97      5813\n",
      "\n"
     ]
    }
   ],
   "source": [
    "print(class_score['XGBoost'])"
   ]
  },
  {
   "cell_type": "markdown",
   "metadata": {},
   "source": [
    "As expected, results from all three models shows worse performance when checking the precision and recall, especially logistic and knn where precision and recall of person having stroke went to 0. So, we are going to apply different methods to deal with unbalanced data.\n",
    "1. Undersampling\n",
    "2. Oversampling"
   ]
  },
  {
   "cell_type": "markdown",
   "metadata": {},
   "source": [
    "### Undersampling"
   ]
  },
  {
   "cell_type": "code",
   "execution_count": 314,
   "metadata": {},
   "outputs": [],
   "source": [
    "rusm = RandomUnderSampler(random_state = 42)\n",
    "X_res, y_res = rusm.fit_resample(X, y)\n",
    "\n",
    "#nm = NearMiss(version = 1, n_neighbors = 3)\n",
    "#X_train, y_train = nm.fit_resample(X_train, y_train)\n",
    "#X_test, y_test = nm.fit_resample(X_test, y_test)"
   ]
  },
  {
   "cell_type": "code",
   "execution_count": 316,
   "metadata": {},
   "outputs": [
    {
     "name": "stdout",
     "output_type": "stream",
     "text": [
      "LogisticRegression, done.\n",
      "KNeighbors, done.\n",
      "XGBoost, done.\n"
     ]
    }
   ],
   "source": [
    "X_train, X_test, y_train, y_test = train_test_split(X_res, y_res, test_size = 0.2, random_state = 42)\n",
    "\n",
    "X_train, X_test = one_hot(X_train, X_test)\n",
    "X_train, X_test = scaler(X_train, X_test)\n",
    "\n",
    "preds = training(X_train, y_train, X_test)\n",
    "class_score = classify(y_test, preds)"
   ]
  },
  {
   "cell_type": "code",
   "execution_count": 318,
   "metadata": {},
   "outputs": [
    {
     "name": "stdout",
     "output_type": "stream",
     "text": [
      "              precision    recall  f1-score   support\n",
      "\n",
      "           0       0.80      0.73      0.76       113\n",
      "           1       0.74      0.80      0.77       107\n",
      "\n",
      "    accuracy                           0.77       220\n",
      "   macro avg       0.77      0.77      0.77       220\n",
      "weighted avg       0.77      0.77      0.77       220\n",
      "\n"
     ]
    }
   ],
   "source": [
    "print(class_score['LogisticRegression'])"
   ]
  },
  {
   "cell_type": "code",
   "execution_count": 319,
   "metadata": {},
   "outputs": [
    {
     "name": "stdout",
     "output_type": "stream",
     "text": [
      "              precision    recall  f1-score   support\n",
      "\n",
      "           0       0.74      0.66      0.70       113\n",
      "           1       0.68      0.76      0.72       107\n",
      "\n",
      "    accuracy                           0.71       220\n",
      "   macro avg       0.71      0.71      0.71       220\n",
      "weighted avg       0.71      0.71      0.71       220\n",
      "\n"
     ]
    }
   ],
   "source": [
    "print(class_score['KNeighbors'])"
   ]
  },
  {
   "cell_type": "code",
   "execution_count": 320,
   "metadata": {},
   "outputs": [
    {
     "name": "stdout",
     "output_type": "stream",
     "text": [
      "              precision    recall  f1-score   support\n",
      "\n",
      "           0       0.75      0.63      0.68       113\n",
      "           1       0.66      0.78      0.72       107\n",
      "\n",
      "    accuracy                           0.70       220\n",
      "   macro avg       0.71      0.70      0.70       220\n",
      "weighted avg       0.71      0.70      0.70       220\n",
      "\n"
     ]
    }
   ],
   "source": [
    "print(class_score['XGBoost'])"
   ]
  },
  {
   "cell_type": "markdown",
   "metadata": {},
   "source": [
    "When undersampling, results related to people not having stroke dropped from 99% to an average of 75%, but on the other hand results related to people having stroke has increased significantly."
   ]
  },
  {
   "cell_type": "markdown",
   "metadata": {},
   "source": [
    "### Oversampling"
   ]
  },
  {
   "cell_type": "code",
   "execution_count": 329,
   "metadata": {},
   "outputs": [],
   "source": [
    "rosm = RandomOverSampler(random_state = 42)\n",
    "X_res, y_res = rosm.fit_resample(X, y)"
   ]
  },
  {
   "cell_type": "code",
   "execution_count": 330,
   "metadata": {},
   "outputs": [
    {
     "name": "stdout",
     "output_type": "stream",
     "text": [
      "LogisticRegression, done.\n",
      "KNeighbors, done.\n",
      "XGBoost, done.\n"
     ]
    }
   ],
   "source": [
    "X_train, X_test, y_train, y_test = train_test_split(X_res, y_res, test_size = 0.2, random_state = 42)\n",
    "\n",
    "X_train, X_test = one_hot(X_train, X_test)\n",
    "X_train, X_test = scaler(X_train, X_test)\n",
    "\n",
    "preds = training(X_train, y_train, X_test)\n",
    "class_score = classify(y_test, preds)"
   ]
  },
  {
   "cell_type": "code",
   "execution_count": 331,
   "metadata": {},
   "outputs": [
    {
     "name": "stdout",
     "output_type": "stream",
     "text": [
      "              precision    recall  f1-score   support\n",
      "\n",
      "           0       0.77      0.72      0.74      5617\n",
      "           1       0.74      0.79      0.77      5790\n",
      "\n",
      "    accuracy                           0.76     11407\n",
      "   macro avg       0.76      0.76      0.76     11407\n",
      "weighted avg       0.76      0.76      0.76     11407\n",
      "\n"
     ]
    }
   ],
   "source": [
    "print(class_score['LogisticRegression'])"
   ]
  },
  {
   "cell_type": "code",
   "execution_count": 332,
   "metadata": {},
   "outputs": [
    {
     "name": "stdout",
     "output_type": "stream",
     "text": [
      "              precision    recall  f1-score   support\n",
      "\n",
      "           0       0.54      0.94      0.68      5617\n",
      "           1       0.78      0.21      0.34      5790\n",
      "\n",
      "    accuracy                           0.57     11407\n",
      "   macro avg       0.66      0.58      0.51     11407\n",
      "weighted avg       0.66      0.57      0.51     11407\n",
      "\n"
     ]
    }
   ],
   "source": [
    "print(class_score['KNeighbors'])"
   ]
  },
  {
   "cell_type": "code",
   "execution_count": 333,
   "metadata": {},
   "outputs": [
    {
     "name": "stdout",
     "output_type": "stream",
     "text": [
      "              precision    recall  f1-score   support\n",
      "\n",
      "           0       0.98      0.94      0.96      5617\n",
      "           1       0.94      0.99      0.96      5790\n",
      "\n",
      "    accuracy                           0.96     11407\n",
      "   macro avg       0.96      0.96      0.96     11407\n",
      "weighted avg       0.96      0.96      0.96     11407\n",
      "\n"
     ]
    }
   ],
   "source": [
    "print(class_score['XGBoost'])"
   ]
  },
  {
   "cell_type": "markdown",
   "metadata": {},
   "source": [
    "As we can see, oversampling has improved performance a lot. The most significant improvement is seen on XGBoost. Models like Logistic Regression has performed similar in undersampling and oversampling while K Neighbors Classifiers results worsens due to the presence of noise in the data due to oversampling. "
   ]
  }
 ],
 "metadata": {
  "kernelspec": {
   "display_name": "Python 3.9.12 ('tf')",
   "language": "python",
   "name": "python3"
  },
  "language_info": {
   "codemirror_mode": {
    "name": "ipython",
    "version": 3
   },
   "file_extension": ".py",
   "mimetype": "text/x-python",
   "name": "python",
   "nbconvert_exporter": "python",
   "pygments_lexer": "ipython3",
   "version": "3.9.12"
  },
  "orig_nbformat": 4,
  "vscode": {
   "interpreter": {
    "hash": "81a7055fb31d802ce0dc826e8ae04450b2aa6caf95beaf87906aa81810c82d8a"
   }
  }
 },
 "nbformat": 4,
 "nbformat_minor": 2
}
